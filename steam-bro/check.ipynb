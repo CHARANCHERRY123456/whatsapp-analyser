{
 "cells": [
  {
   "cell_type": "code",
   "execution_count": 4,
   "id": "4b8f16ec",
   "metadata": {},
   "outputs": [
    {
     "name": "stderr",
     "output_type": "stream",
     "text": [
      "<>:21: SyntaxWarning: invalid escape sequence '\\w'\n",
      "<>:21: SyntaxWarning: invalid escape sequence '\\w'\n",
      "C:\\Users\\Hi\\AppData\\Local\\Temp\\ipykernel_10516\\3931611109.py:21: SyntaxWarning: invalid escape sequence '\\w'\n",
      "  entry = re.split(\"([\\w\\W]+?):\\s\",message)\n"
     ]
    }
   ],
   "source": [
    "# 05/05/2021, 20:39 - Balaji: Emo ra nenu Inka cheyaledu avi\n",
    "# example message format\n",
    "\n",
    "import re\n",
    "import pandas as pd\n",
    "def preprocess(data , pattern=24):\n",
    "    pattern = r\"\\d{1,2}/\\d{1,2}/\\d{2,4},\\s\\d{1,2}:\\d{2}\\s-\\s\"\n",
    "    if pattern == 12:\n",
    "        pattern = r\"\\d{1,2}/\\d{1,2}/\\d{2,4},\\s\\d{1,2}:\\d{2}\\s-\\s\"\n",
    "    messages = re.split(pattern, data)[1:]\n",
    "    dates = re.findall(pattern, data)\n",
    "    df = pd.DataFrame({\n",
    "        \"user_message\": messages,\n",
    "        \"message_date\": dates,\n",
    "    })\n",
    "    df[\"date\"] = pd.to_datetime(df[\"message_date\"], format=\"%d/%m/%Y, %H:%M - \")\n",
    "    users = []\n",
    "    messages = []\n",
    "    for message in df[\"user_message\"]:\n",
    "        # split by : and split to user , message\n",
    "        entry = re.split(\"([\\w\\W]+?):\\s\",message)\n",
    "        if entry[1:]: # if it is user message (uname : message)\n",
    "            users.append(entry[1])\n",
    "            messages.append(entry[2])\n",
    "        else: # if it is notification chat without user name\n",
    "            users.append(\"notification\")\n",
    "            messages.append(entry[0])\n",
    "    df[\"user\"] = users\n",
    "    df[\"message\"] = messages\n",
    "    df.drop(columns=[\"user_message\"] , inplace=True)\n",
    "\n",
    "    df[\"only_date\"] = df[\"date\"].dt.date\n",
    "    df[\"year\"] = df['date'].dt.year\n",
    "    df[\"month_num\"] = df[\"date\"].dt.month\n",
    "    df[\"month\"] =  df['date'].dt.month_name()\n",
    "    df[\"day\"]=  df['date'].dt.day\n",
    "    df[\"day_name\"] = df[\"date\"].dt.day_name()\n",
    "    df[\"hour\"] = df[\"date\"].dt.hour\n",
    "    df[\"minute\"] = df[\"date\"].dt.minute\n",
    "\n",
    "    period = []\n",
    "    for hour in df['hour']:\n",
    "        if hour == 23:\n",
    "            period.append(str(hour) + \"-\" + str('00'))\n",
    "        elif hour == 0:\n",
    "            period.append(str('00') + \"-\" + str(hour + 1))\n",
    "        else:\n",
    "            period.append(str(hour) + \"-\" + str(hour + 1))\n",
    "\n",
    "    df['period'] = period\n",
    "\n",
    "    return df"
   ]
  },
  {
   "cell_type": "code",
   "execution_count": 2,
   "id": "3a19305d",
   "metadata": {},
   "outputs": [],
   "source": [
    "insomnia_group_chat = open(\"../WhatsApp Chat with Insomniacs.txt\", \"r\", encoding=\"utf-8\")"
   ]
  },
  {
   "cell_type": "code",
   "execution_count": 5,
   "id": "4aae03c2",
   "metadata": {},
   "outputs": [
    {
     "name": "stderr",
     "output_type": "stream",
     "text": [
      "C:\\Users\\Hi\\AppData\\Local\\Temp\\ipykernel_10516\\3931611109.py:21: SyntaxWarning: invalid escape sequence '\\w'\n",
      "  entry = re.split(\"([\\w\\W]+?):\\s\",message)\n"
     ]
    },
    {
     "ename": "TypeError",
     "evalue": "expected string or bytes-like object, got '_io.TextIOWrapper'",
     "output_type": "error",
     "traceback": [
      "\u001b[31m---------------------------------------------------------------------------\u001b[39m",
      "\u001b[31mTypeError\u001b[39m                                 Traceback (most recent call last)",
      "\u001b[36mCell\u001b[39m\u001b[36m \u001b[39m\u001b[32mIn[5]\u001b[39m\u001b[32m, line 1\u001b[39m\n\u001b[32m----> \u001b[39m\u001b[32m1\u001b[39m \u001b[43mpreprocess\u001b[49m\u001b[43m(\u001b[49m\u001b[43minsomnia_group_chat\u001b[49m\u001b[43m)\u001b[49m\n",
      "\u001b[36mCell\u001b[39m\u001b[36m \u001b[39m\u001b[32mIn[4]\u001b[39m\u001b[32m, line 10\u001b[39m, in \u001b[36mpreprocess\u001b[39m\u001b[34m(data, pattern)\u001b[39m\n\u001b[32m      8\u001b[39m \u001b[38;5;28;01mif\u001b[39;00m pattern == \u001b[32m12\u001b[39m:\n\u001b[32m      9\u001b[39m     pattern = \u001b[33mr\u001b[39m\u001b[33m\"\u001b[39m\u001b[33m\\\u001b[39m\u001b[33md\u001b[39m\u001b[33m{\u001b[39m\u001b[33m1,2}/\u001b[39m\u001b[33m\\\u001b[39m\u001b[33md\u001b[39m\u001b[33m{\u001b[39m\u001b[33m1,2}/\u001b[39m\u001b[33m\\\u001b[39m\u001b[33md\u001b[39m\u001b[33m{\u001b[39m\u001b[33m2,4},\u001b[39m\u001b[33m\\\u001b[39m\u001b[33ms\u001b[39m\u001b[33m\\\u001b[39m\u001b[33md\u001b[39m\u001b[33m{\u001b[39m\u001b[33m1,2}:\u001b[39m\u001b[33m\\\u001b[39m\u001b[33md\u001b[39m\u001b[38;5;132;01m{2}\u001b[39;00m\u001b[33m\\\u001b[39m\u001b[33ms-\u001b[39m\u001b[33m\\\u001b[39m\u001b[33ms\u001b[39m\u001b[33m\"\u001b[39m\n\u001b[32m---> \u001b[39m\u001b[32m10\u001b[39m messages = \u001b[43mre\u001b[49m\u001b[43m.\u001b[49m\u001b[43msplit\u001b[49m\u001b[43m(\u001b[49m\u001b[43mpattern\u001b[49m\u001b[43m,\u001b[49m\u001b[43m \u001b[49m\u001b[43mdata\u001b[49m\u001b[43m)\u001b[49m[\u001b[32m1\u001b[39m:]\n\u001b[32m     11\u001b[39m dates = re.findall(pattern, data)\n\u001b[32m     12\u001b[39m df = pd.DataFrame({\n\u001b[32m     13\u001b[39m     \u001b[33m\"\u001b[39m\u001b[33muser_message\u001b[39m\u001b[33m\"\u001b[39m: messages,\n\u001b[32m     14\u001b[39m     \u001b[33m\"\u001b[39m\u001b[33mmessage_date\u001b[39m\u001b[33m\"\u001b[39m: dates,\n\u001b[32m     15\u001b[39m })\n",
      "\u001b[36mFile \u001b[39m\u001b[32m~\\AppData\\Local\\Programs\\Python\\Python313\\Lib\\re\\__init__.py:267\u001b[39m, in \u001b[36msplit\u001b[39m\u001b[34m(pattern, string, maxsplit, flags, *args)\u001b[39m\n\u001b[32m    261\u001b[39m     \u001b[38;5;28;01mimport\u001b[39;00m\u001b[38;5;250m \u001b[39m\u001b[34;01mwarnings\u001b[39;00m\n\u001b[32m    262\u001b[39m     warnings.warn(\n\u001b[32m    263\u001b[39m         \u001b[33m\"\u001b[39m\u001b[33m'\u001b[39m\u001b[33mmaxsplit\u001b[39m\u001b[33m'\u001b[39m\u001b[33m is passed as positional argument\u001b[39m\u001b[33m\"\u001b[39m,\n\u001b[32m    264\u001b[39m         \u001b[38;5;167;01mDeprecationWarning\u001b[39;00m, stacklevel=\u001b[32m2\u001b[39m\n\u001b[32m    265\u001b[39m     )\n\u001b[32m--> \u001b[39m\u001b[32m267\u001b[39m \u001b[38;5;28;01mreturn\u001b[39;00m \u001b[43m_compile\u001b[49m\u001b[43m(\u001b[49m\u001b[43mpattern\u001b[49m\u001b[43m,\u001b[49m\u001b[43m \u001b[49m\u001b[43mflags\u001b[49m\u001b[43m)\u001b[49m\u001b[43m.\u001b[49m\u001b[43msplit\u001b[49m\u001b[43m(\u001b[49m\u001b[43mstring\u001b[49m\u001b[43m,\u001b[49m\u001b[43m \u001b[49m\u001b[43mmaxsplit\u001b[49m\u001b[43m)\u001b[49m\n",
      "\u001b[31mTypeError\u001b[39m: expected string or bytes-like object, got '_io.TextIOWrapper'"
     ]
    }
   ],
   "source": [
    "preprocess(insomnia_group_chat)"
   ]
  },
  {
   "cell_type": "code",
   "execution_count": null,
   "id": "f8a862a0",
   "metadata": {},
   "outputs": [],
   "source": []
  }
 ],
 "metadata": {
  "kernelspec": {
   "display_name": "venv",
   "language": "python",
   "name": "python3"
  },
  "language_info": {
   "codemirror_mode": {
    "name": "ipython",
    "version": 3
   },
   "file_extension": ".py",
   "mimetype": "text/x-python",
   "name": "python",
   "nbconvert_exporter": "python",
   "pygments_lexer": "ipython3",
   "version": "3.13.5"
  }
 },
 "nbformat": 4,
 "nbformat_minor": 5
}
